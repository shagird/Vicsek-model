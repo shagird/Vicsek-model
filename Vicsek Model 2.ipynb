{
 "cells": [
  {
   "cell_type": "code",
   "execution_count": 217,
   "id": "118eb436-7b27-41f5-96a1-f9a4c58ee37c",
   "metadata": {},
   "outputs": [],
   "source": [
    "import numpy as np, matplotlib.pyplot as plt, time "
   ]
  },
  {
   "cell_type": "code",
   "execution_count": 222,
   "id": "485d9221-ca55-40cd-b999-c5fb57b216f9",
   "metadata": {},
   "outputs": [],
   "source": [
    "rho = 4\n",
    "L = 10\n",
    "N = int(rho*L**2)\n",
    "rad = 0.5\n",
    "v_0 = 0.05\n",
    "eta = 1\n",
    "n_grids = int((L/rad)**2)\n",
    "t = 1000\n",
    "dt = 1"
   ]
  },
  {
   "cell_type": "code",
   "execution_count": 209,
   "id": "46887883-ab75-49c5-b8f1-a1ce0c3b041e",
   "metadata": {},
   "outputs": [],
   "source": [
    "def grid_no(x,y,L,rad):\n",
    "    #Given the coordinates of the particle we can find the grid where the particle is\n",
    "    if y//1.0 == y or x//1.0 == x:\n",
    "        return(int(y-1)*int(L/rad)+int(x-1))\n",
    "    else: \n",
    "        return(int(y)*int(L/rad)+int(x))\n",
    "grid = np.vectorize(grid_no)"
   ]
  },
  {
   "cell_type": "code",
   "execution_count": 212,
   "id": "f08fa672-4999-4519-8311-3a683c254278",
   "metadata": {},
   "outputs": [],
   "source": [
    "def nbr_grid(grid_id,L,rad):\n",
    "    fake_x = grid_id%(L/rad) + 0.5\n",
    "    fake_y = grid_id//(L/rad) + 0.5\n",
    "    nbr_g = []\n",
    "    for i in [-1,0,1]:\n",
    "        for j in [-1,0,1]:\n",
    "            nbr_g.append((grid_no(np.mod(fake_x+i,L),np.mod(fake_y+j,L),L,rad)))\n",
    "    return nbr_g\n",
    "\n",
    "nbr_grids = [nbr_grid(i,L,rad) for i in range(n_grids)]#for each grids it returns the list of grids which are its neighbours including itself. "
   ]
  },
  {
   "cell_type": "code",
   "execution_count": 138,
   "id": "dab10c6e",
   "metadata": {},
   "outputs": [],
   "source": [
    "def dist(x1,y1,x2,y2):\n",
    "    return np.sqrt((x1-x2)**2 + (y1-y2)**2)"
   ]
  },
  {
   "cell_type": "code",
   "execution_count": 139,
   "id": "1b9f696f",
   "metadata": {},
   "outputs": [],
   "source": [
    "def is_neighbour(x1,y1,x2,y2):\n",
    "    return dist(x1,y1,x2,y2) < rad #and dist(x1,y1,x2,y2) != 0"
   ]
  },
  {
   "cell_type": "code",
   "execution_count": 140,
   "id": "afdf7406",
   "metadata": {},
   "outputs": [],
   "source": [
    "def add_to_dict(dic,key,val):\n",
    "    if key in dic:\n",
    "        dic[key] += [val]\n",
    "    else: \n",
    "        dic[key] = [val]"
   ]
  },
  {
   "cell_type": "code",
   "execution_count": 141,
   "id": "aaa11570-4331-4c35-a311-d4db2d97a198",
   "metadata": {},
   "outputs": [],
   "source": [
    "def nbr_avg(p1, nbr_part):\n",
    "    #if p1 in nbr_part:\n",
    "    return np.mean(nbr_part[p1])\n",
    "    #else: \n",
    "        #return theta_p1"
   ]
  },
  {
   "cell_type": "markdown",
   "id": "84c81bf7-9ad9-4eee-9608-1ce1cf4ade93",
   "metadata": {},
   "source": [
    "## Above the necessary functions have been defined. Now we simulate each time step. "
   ]
  },
  {
   "cell_type": "code",
   "execution_count": 223,
   "id": "660a9c3d-794c-42a5-ac2a-e2150e2d3e03",
   "metadata": {},
   "outputs": [],
   "source": [
    "x = np.zeros((t,N))#Creates a list of x positions with rows as time and columns as each particle\n",
    "x[0,:] = np.random.uniform(0,L,N)#Intialize the 0th time step \n",
    "\n",
    "y = np.zeros((t,N))#similarly for y\n",
    "y[0,:] = np.random.uniform(0,L,N)\n",
    "\n",
    "theta = np.zeros((t,N))#similarly for theta \n",
    "theta[0,:] = np.arctan(y[0,:]/x[0,:])"
   ]
  },
  {
   "cell_type": "code",
   "execution_count": 224,
   "id": "00b2a1d1-3696-4524-b29e-faaf8f38a41e",
   "metadata": {},
   "outputs": [
    {
     "name": "stdout",
     "output_type": "stream",
     "text": [
      "90.83281373977661\n"
     ]
    },
    {
     "data": {
      "image/png": "[encoded data removed]",
      "text/plain": [
       "<Figure size 432x288 with 1 Axes>"
      ]
     },
     "metadata": {
      "needs_background": "light"
     },
     "output_type": "display_data"
    }
   ],
   "source": [
    "start_time = time.time()\n",
    "v_as_true = [np.mean(theta[0,:])]\n",
    "#v_as = [np.mean(theta[0,:])]\n",
    "for i in range(t-1):#for each time step\n",
    "    grids = grid(x[i,:],y[i,:],L,rad)\n",
    "    dic_grids = {}#keys are grids and particles are values --> for each grid how many particles it contains. \n",
    "    for ind,el in enumerate(grids):\n",
    "        add_to_dict(dic_grids, el, ind)\n",
    "    nbr_part = {}#keys are particles and values are its neighbours and their angles. \n",
    "    for grid_id in dic_grids:#for a certain grid \n",
    "        for p1 in dic_grids[grid_id]:#a particle in that grid\n",
    "            for grd in nbr_grids[grid_id]:#a neighbour of our above grid\n",
    "                if grd in dic_grids:\n",
    "                    for p2 in dic_grids[grd]:#a particle in the neighbour grid\n",
    "                        if is_neighbour(x[i,p1],y[i,p1],x[i,p2],y[i,p2]):#if it is the neighbour of our particle\n",
    "                            add_to_dict(nbr_part,p1,theta[i,p2])#then add the particle and its theta to the list of values for our above particle\n",
    "    for p in range(N):#for each particle \n",
    "        theta[i+1,p] = nbr_avg(p, nbr_part) + np.random.uniform(-eta,eta)\n",
    "        x[i+1,p] = x[i,p] + v_0*dt*np.cos(theta[i+1,p])\n",
    "        x[i+1,p] = np.mod(x[i+1,p],L)\n",
    "        y[i+1,p] = y[i,p] + v_0*dt*np.sin(theta[i+1,p])\n",
    "        y[i+1,p] = np.mod(y[i+1,p],L) \n",
    "    v_a = np.sqrt(np.mean(np.cos(theta[i,:]))**2 + np.mean(np.sin(theta[i,:]))**2)\n",
    "    v_as_true.append(v_a)\n",
    "    #v_a = np.mean(theta[i,:])\n",
    "    #v_as.append(v_a)\n",
    "#plt.plot(range(t),v_as)\n",
    "#plt.title(r'$\\nu_a $ vs time')\n",
    "plt.plot(range(t),v_as_true)\n",
    "plt.axhline(np.mean(v_as_true[95:]))\n",
    "plt.legend(['true'])\n",
    "print(time.time() - start_time)"
   ]
  },
  {
   "cell_type": "code",
   "execution_count": null,
   "id": "32563c4e-149c-4c99-9631-7e5479355e70",
   "metadata": {},
   "outputs": [],
   "source": []
  }
 ],
 "metadata": {
  "kernelspec": {
   "display_name": "Python 3 (ipykernel)",
   "language": "python",
   "name": "python3"
  },
  "language_info": {
   "codemirror_mode": {
    "name": "ipython",
    "version": 3
   },
   "file_extension": ".py",
   "mimetype": "text/x-python",
   "name": "python",
   "nbconvert_exporter": "python",
   "pygments_lexer": "ipython3",
   "version": "3.8.12"
  }
 },
 "nbformat": 4,
 "nbformat_minor": 5
}
