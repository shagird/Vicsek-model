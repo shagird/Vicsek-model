{
 "cells": [
  {
   "cell_type": "code",
   "execution_count": 1,
   "id": "faf73155-a65a-4bfc-8791-435b3f23d345",
   "metadata": {},
   "outputs": [],
   "source": [
    "import numpy as np, matplotlib.pyplot as plt, time "
   ]
  },
  {
   "cell_type": "code",
   "execution_count": 2,
   "id": "571433aa-0e40-4cd7-8f02-e368c4de1493",
   "metadata": {},
   "outputs": [],
   "source": [
    "def grid_no(x,y,L,rad):\n",
    "    #Given the coordinates of the particle we can find the grid where the particle is\n",
    "    if y//1.0 == y or x//1.0 == x:\n",
    "        return(int(y-1)*int(L/rad)+int(x-1))\n",
    "    else: \n",
    "        return(int(y)*int(L/rad)+int(x))\n",
    "grid = np.vectorize(grid_no)"
   ]
  },
  {
   "cell_type": "code",
   "execution_count": 3,
   "id": "0617fe7f-d349-4ce5-90a1-903dfbee08b8",
   "metadata": {},
   "outputs": [],
   "source": [
    "def nbr_grid(grid_id,L,rad):\n",
    "    fake_x = grid_id%(L/rad) + 0.5\n",
    "    fake_y = grid_id//(L/rad) + 0.5\n",
    "    nbr_g = []\n",
    "    for i in [-1,0,1]:\n",
    "        for j in [-1,0,1]:\n",
    "            nbr_g.append((grid_no(np.mod(fake_x+i,L),np.mod(fake_y+j,L),L,rad)))\n",
    "    return nbr_g"
   ]
  },
  {
   "cell_type": "code",
   "execution_count": 4,
   "id": "18153d8a-559d-43f9-bdf6-93ffda161b7d",
   "metadata": {},
   "outputs": [],
   "source": [
    "def dist(x1,y1,x2,y2):\n",
    "    return np.sqrt((x1-x2)**2 + (y1-y2)**2)"
   ]
  },
  {
   "cell_type": "code",
   "execution_count": 5,
   "id": "4966cab7-ee0d-4fbe-b3a0-38a835ef7006",
   "metadata": {},
   "outputs": [],
   "source": [
    "def is_neighbour(x1,y1,x2,y2,rad):\n",
    "    return dist(x1,y1,x2,y2) < rad #and dist(x1,y1,x2,y2) != 0"
   ]
  },
  {
   "cell_type": "code",
   "execution_count": 6,
   "id": "19fcf1ad-e85a-48f1-b41b-3c0f044e5c2d",
   "metadata": {},
   "outputs": [],
   "source": [
    "def add_to_dict(dic,key,val):\n",
    "    if key in dic:\n",
    "        dic[key] += [val]\n",
    "    else: \n",
    "        dic[key] = [val]"
   ]
  },
  {
   "cell_type": "code",
   "execution_count": 7,
   "id": "e55202fd-e1e2-428f-83cc-864a1b8d1220",
   "metadata": {},
   "outputs": [],
   "source": [
    "def nbr_avg(p1, nbr_part):\n",
    "    #if p1 in nbr_part:\n",
    "    return np.mean(nbr_part[p1])\n",
    "    #else: \n",
    "        #return theta_p1"
   ]
  },
  {
   "cell_type": "markdown",
   "id": "590a7cff-53d6-4831-9dc4-1e0a0e0a1c97",
   "metadata": {
    "tags": []
   },
   "source": [
    "## Defining a function which returns polarization parameter $\\nu_a$"
   ]
  },
  {
   "cell_type": "code",
   "execution_count": 18,
   "id": "1e5852ef-293c-4fbd-b27c-e86f46439ea3",
   "metadata": {},
   "outputs": [],
   "source": [
    "def viscek_polarization(rho,L,rad,v_0,eta,t,dt):\n",
    "    L = int(L)\n",
    "    N = int(rho*L**2)\n",
    "    n_grids = int((L/rad)**2)\n",
    "    t = int(t)\n",
    "    \n",
    "    nbr_grids = [nbr_grid(i,L,rad) for i in range(n_grids)]#for each grids it returns the list of grids which are its neighbours including itself. \n",
    "    \n",
    "    x = np.zeros((t,N))#Creates a list of x positions with rows as time and columns as each particle\n",
    "    x[0,:] = np.random.uniform(0,L,N)#Intialize the 0th time step \n",
    "\n",
    "    y = np.zeros((t,N))#similarly for y\n",
    "    y[0,:] = np.random.uniform(0,L,N)\n",
    "\n",
    "    theta = np.zeros((t,N))#similarly for theta \n",
    "    theta[0,:] = np.arctan(y[0,:]/x[0,:])\n",
    "    \n",
    "    v_as_true = [np.mean(theta[0,:])]\n",
    "    \n",
    "    for i in range(t-1):#for each time step\n",
    "        grids = grid(x[i,:],y[i,:],L,rad)\n",
    "        dic_grids = {}#keys are grids and particles are values --> for each grid how many particles it contains. \n",
    "        for ind,el in enumerate(grids):\n",
    "            add_to_dict(dic_grids, el, ind)\n",
    "        nbr_part = {}#keys are particles and values are tuples of its neighbours and their angles. \n",
    "        for grid_id in dic_grids:#for a certain grid \n",
    "            for p1 in dic_grids[grid_id]:#a particle in that grid\n",
    "                for grd in nbr_grids[grid_id]:#a neighbour of our above grid\n",
    "                    if grd in dic_grids:\n",
    "                        for p2 in dic_grids[grd]:#a particle in the neighbour grid\n",
    "                            if is_neighbour(x[i,p1],y[i,p1],x[i,p2],y[i,p2],rad):#if it is the neighbour of our particle\n",
    "                                add_to_dict(nbr_part,p1,theta[i,p2])\n",
    "                                #add_to_dict(nbr_part,p1,(p2,theta[i,p2]))#then add the particle and its theta to the list of values for our above particle\n",
    "        for p in range(N):#for each particle \n",
    "            theta[i+1,p] = nbr_avg(p, nbr_part) + np.random.uniform(-eta,eta)\n",
    "            x[i+1,p] = x[i,p] + v_0*dt*np.cos(theta[i+1,p])\n",
    "            x[i+1,p] = np.mod(x[i+1,p],L)\n",
    "            y[i+1,p] = y[i,p] + v_0*dt*np.sin(theta[i+1,p])\n",
    "            y[i+1,p] = np.mod(y[i+1,p],L) \n",
    "        v_a = np.sqrt(np.mean(np.cos(theta[i,:]))**2 + np.mean(np.sin(theta[i,:]))**2)\n",
    "        v_as_true.append(v_a)\n",
    "    return np.mean(v_as_true[t-10:])#taking average of last 10 values of vicsek's parameter\n",
    "#viscek_para = np.vectorize(viscek_polarization)"
   ]
  },
  {
   "cell_type": "code",
   "execution_count": 17,
   "id": "384b3424-7bb2-4eb3-9c9a-16db3ef74a9a",
   "metadata": {},
   "outputs": [
    {
     "data": {
      "image/png": "[encoded data removed]",
      "text/plain": [
       "<Figure size 432x288 with 1 Axes>"
      ]
     },
     "metadata": {
      "needs_background": "light"
     },
     "output_type": "display_data"
    }
   ],
   "source": [
    "eta_range = np.linspace(0,5,20)\n",
    "vicsek_para = []\n",
    "for eta in eta_range:\n",
    "    vicsek_para.append(viscek_polarization(6,20,0.5,0.05,eta,100,1))\n",
    "\n",
    "plt.plot(eta_range,vicsek_para, 'k^') \n",
    "plt.title(r'$\\nu_a$ vs $\\eta$')\n",
    "plt.ylabel(r'$\\nu_a$')\n",
    "plt.xlabel(r'$\\eta$')\n",
    "plt.show()"
   ]
  },
  {
   "cell_type": "code",
   "execution_count": 16,
   "id": "198ac7fb-af73-4efb-916a-f095e584a8cf",
   "metadata": {},
   "outputs": [
    {
     "data": {
      "image/png": "[encoded data removed]",
      "text/plain": [
       "<Figure size 432x288 with 1 Axes>"
      ]
     },
     "metadata": {
      "needs_background": "light"
     },
     "output_type": "display_data"
    }
   ],
   "source": [
    "rho_range = np.linspace(1,10,20)\n",
    "vicsek_para = []\n",
    "for rho in rho_range:\n",
    "    vicsek_para.append(viscek_polarization(rho,30,0.5,0.05,0.5,100,1))\n",
    "\n",
    "plt.plot(rho_range,vicsek_para, 'k-^') \n",
    "plt.title(r'$\\nu_a$ vs $\\rho$')\n",
    "plt.ylabel(r'$\\nu_a$')\n",
    "plt.xlabel(r'$\\rho$')\n",
    "plt.show()"
   ]
  },
  {
   "cell_type": "code",
   "execution_count": null,
   "id": "1657be89-2e56-4e8c-a9d9-8faa273e19d8",
   "metadata": {},
   "outputs": [],
   "source": []
  }
 ],
 "metadata": {
  "kernelspec": {
   "display_name": "Python 3 (ipykernel)",
   "language": "python",
   "name": "python3"
  },
  "language_info": {
   "codemirror_mode": {
    "name": "ipython",
    "version": 3
   },
   "file_extension": ".py",
   "mimetype": "text/x-python",
   "name": "python",
   "nbconvert_exporter": "python",
   "pygments_lexer": "ipython3",
   "version": "3.8.12"
  }
 },
 "nbformat": 4,
 "nbformat_minor": 5
}
